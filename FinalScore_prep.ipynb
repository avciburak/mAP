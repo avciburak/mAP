{
 "cells": [
  {
   "cell_type": "code",
   "execution_count": 1,
   "id": "a03692b1-7cd5-4cea-9d44-296cc130daa7",
   "metadata": {},
   "outputs": [],
   "source": [
    "import os"
   ]
  },
  {
   "cell_type": "code",
   "execution_count": 2,
   "id": "2dcd9585-8329-4eb5-99a7-1bee4a988cb5",
   "metadata": {},
   "outputs": [],
   "source": [
    "\"\"\"\n",
    "results_root=\"./results/\"\n",
    "pcb_root=\"./mAP50/\"\n",
    "\"\"\""
   ]
  },
  {
   "cell_type": "code",
   "execution_count": 2,
   "id": "39480b0b-5b62-4369-a34f-3e705480f0b2",
   "metadata": {},
   "outputs": [],
   "source": [
    "results_root=\"./results_2/\"\n",
    "pcb_root=\"./mAP50_2/\""
   ]
  },
  {
   "cell_type": "code",
   "execution_count": 3,
   "id": "2f156a6f-13ac-4c56-870b-d69ec101b4bd",
   "metadata": {},
   "outputs": [],
   "source": [
    "result_files=os.listdir(results_root)"
   ]
  },
  {
   "cell_type": "code",
   "execution_count": 4,
   "id": "215035fc-4756-42f6-894f-cb3214b45df5",
   "metadata": {},
   "outputs": [
    {
     "data": {
      "text/plain": [
       "['ballet.txt',\n",
       " 'bicycle.txt',\n",
       " 'bike1.txt',\n",
       " 'car1.txt',\n",
       " 'car16.txt',\n",
       " 'car3.txt',\n",
       " 'car6.txt',\n",
       " 'car8.txt',\n",
       " 'car9.txt',\n",
       " 'carchase.txt',\n",
       " 'f1.txt',\n",
       " 'following.txt',\n",
       " 'group1.txt',\n",
       " 'group2.txt',\n",
       " 'group3.txt',\n",
       " 'horseride.txt',\n",
       " 'kitesurfing.txt',\n",
       " 'longboard.txt',\n",
       " 'nissan.txt',\n",
       " 'person14.txt',\n",
       " 'person17.txt',\n",
       " 'person19.txt',\n",
       " 'person2.txt',\n",
       " 'person20.txt',\n",
       " 'person4.txt',\n",
       " 'person5.txt',\n",
       " 'person7.txt',\n",
       " 'rollerman.txt',\n",
       " 'skiing.txt',\n",
       " 'sup.txt',\n",
       " 'tightrope.txt',\n",
       " 'uav1.txt',\n",
       " 'volkswagen.txt',\n",
       " 'warmup.txt',\n",
       " 'wingsuit.txt']"
      ]
     },
     "execution_count": 4,
     "metadata": {},
     "output_type": "execute_result"
    }
   ],
   "source": [
    "result_files"
   ]
  },
  {
   "cell_type": "code",
   "execution_count": 6,
   "id": "f5e1e950-3f44-4cd0-8159-5b2a8919055d",
   "metadata": {},
   "outputs": [],
   "source": [
    "for file in result_files:\n",
    "    class_name=file.split(\".\")[0]\n",
    "    g=open(pcb_root+class_name+\"/\"+class_name+\"_FinalScore.txt\",\"w\")\n",
    "    g.close()\n",
    "    "
   ]
  },
  {
   "cell_type": "code",
   "execution_count": 7,
   "id": "68273aef-76ef-46b5-9df1-a844e17df047",
   "metadata": {},
   "outputs": [],
   "source": [
    "for file in result_files:\n",
    "    class_name=file.split(\".\")[0]\n",
    "    f=open(results_root+file,\"r\")\n",
    "    g=open(pcb_root+class_name+\"/\"+class_name+\"_FinalScore.txt\",\"a\")\n",
    "    for line in f:\n",
    "        if line[0]!=\"0\":\n",
    "            splitted=line.split(\",\")\n",
    "            g.write(\"frame\"+splitted[0]+\n",
    "                    \" | \"+\"bb.jpg\"+\" | \"+\n",
    "                    splitted[1]+\",\"+\n",
    "                    splitted[2]+\",\"+\n",
    "                    str(float(splitted[1])+float(splitted[3]))+\",\"+\n",
    "                    str(float(splitted[2])+float(splitted[4]))+\",\"+\n",
    "                    splitted[7])\n",
    "        else:\n",
    "            g.write(\"0,0,0,0\\n\")        \n",
    "    f.close()\n",
    "    g.close()\n",
    "                "
   ]
  },
  {
   "cell_type": "code",
   "execution_count": null,
   "id": "1830941b-5f11-4007-9b83-dbe0a3e6432d",
   "metadata": {},
   "outputs": [],
   "source": []
  }
 ],
 "metadata": {
  "kernelspec": {
   "display_name": "Python 3 (ipykernel)",
   "language": "python",
   "name": "python3"
  },
  "language_info": {
   "codemirror_mode": {
    "name": "ipython",
    "version": 3
   },
   "file_extension": ".py",
   "mimetype": "text/x-python",
   "name": "python",
   "nbconvert_exporter": "python",
   "pygments_lexer": "ipython3",
   "version": "3.11.8"
  }
 },
 "nbformat": 4,
 "nbformat_minor": 5
}
